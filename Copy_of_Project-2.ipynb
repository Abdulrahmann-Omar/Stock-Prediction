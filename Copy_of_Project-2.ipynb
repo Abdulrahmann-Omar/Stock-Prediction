{
  "nbformat": 4,
  "nbformat_minor": 0,
  "metadata": {
    "colab": {
      "private_outputs": true,
      "provenance": []
    },
    "kernelspec": {
      "name": "python3",
      "display_name": "Python 3"
    },
    "language_info": {
      "name": "python"
    }
  },
  "cells": [
    {
      "cell_type": "code",
      "source": [
        "import pandas as pd\n",
        "import numpy as np\n",
        "import matplotlib.pyplot as plt\n",
        "import seaborn as sns\n",
        "import yfinance as yf\n",
        "import missingno as msno\n",
        "\n",
        "\n",
        "\n",
        "from statsmodels.tsa.seasonal import seasonal_decompose\n",
        "import warnings\n",
        "warnings.filterwarnings('ignore')\n",
        "\n",
        "plt.style.use('ggplot')\n",
        "sns.set_palette(\"deep\")\n",
        "plt.rcParams['figure.figsize'] = (14, 7)\n"
      ],
      "metadata": {
        "id": "VoGK5n9ghfIc"
      },
      "execution_count": null,
      "outputs": []
    },
    {
      "cell_type": "code",
      "source": [
        "data = yf.download(\"AAPL\", start=\"1980-12-12\", end=\"2024-12-31\")\n",
        "data = data.iloc[:10000]\n",
        "print(data.columns)\n",
        "print(data.head())\n"
      ],
      "metadata": {
        "id": "SmfcClgXgb9O"
      },
      "execution_count": null,
      "outputs": []
    },
    {
      "cell_type": "code",
      "source": [
        "print(\"Shape:\", data.shape)\n",
        "print(\"Columns:\", data.columns)\n",
        "print(\"Data Types:\\n\", data.dtypes)\n",
        "print(data.info())\n"
      ],
      "metadata": {
        "id": "HwFo9t9AgfhR"
      },
      "execution_count": null,
      "outputs": []
    },
    {
      "cell_type": "code",
      "source": [
        "print(\"Missing values:\\n\", data.isnull().sum())\n",
        "\n",
        "\n"
      ],
      "metadata": {
        "id": "mhITDce2gfkD"
      },
      "execution_count": null,
      "outputs": []
    },
    {
      "cell_type": "code",
      "source": [
        "print(data.describe())\n",
        "print(\"Skewness:\\n\", data.skew())\n",
        "print(\"Kurtosis:\\n\", data.kurtosis())\n"
      ],
      "metadata": {
        "id": "Gtz2qt2_gkmF"
      },
      "execution_count": null,
      "outputs": []
    },
    {
      "cell_type": "code",
      "source": [
        "data.hist(bins=50, figsize=(15, 10))\n",
        "plt.tight_layout()\n",
        "plt.show()\n",
        "\n",
        "sns.kdeplot(data['Close'], fill=True)\n",
        "plt.title(\"Close Price Distribution\")\n",
        "plt.show()\n"
      ],
      "metadata": {
        "id": "UuI-iY1-goMI"
      },
      "execution_count": null,
      "outputs": []
    },
    {
      "cell_type": "code",
      "source": [
        "corr = data.corr()\n",
        "sns.heatmap(corr, annot=True, cmap=\"Greens\")\n",
        "plt.title(\"Correlation Heatmap\")\n",
        "plt.show()\n"
      ],
      "metadata": {
        "id": "XgkPphxCgp0P"
      },
      "execution_count": null,
      "outputs": []
    },
    {
      "cell_type": "code",
      "source": [
        "data['Year'] = data.index.year\n",
        "yearly_avg = data.groupby('Year')['Close'].mean()\n",
        "yearly_avg.plot()\n",
        "plt.title(\"Yearly Average Close Price\")\n",
        "plt.xlabel(\"Year\")\n",
        "plt.ylabel(\"Average Close\")\n",
        "plt.grid(True)\n",
        "plt.show()\n"
      ],
      "metadata": {
        "id": "zNpoXg_ugsz7"
      },
      "execution_count": null,
      "outputs": []
    },
    {
      "cell_type": "code",
      "source": [
        "import seaborn as sns\n",
        "import matplotlib.pyplot as plt\n",
        "\n",
        "# Calculate outliers based on IQR\n",
        "Q1 = data['Volume'].quantile(0.25)\n",
        "Q3 = data['Volume'].quantile(0.75)\n",
        "IQR = Q3 - Q1\n",
        "outliers = ((data['Volume'] < (Q1 - 1.5 * IQR)) | (data['Volume'] > (Q3 + 1.5 * IQR)))\n",
        "print(f\"Outliers in Volume: {outliers.sum()}\")\n",
        "\n",
        "# Boxplot for Volume\n",
        "plt.figure(figsize=(10, 6))\n",
        "sns.boxplot(data['Volume'])\n",
        "plt.title('Volume Outlier Detection')\n",
        "plt.show()\n"
      ],
      "metadata": {
        "id": "_BDt0nEQ8RUu"
      },
      "execution_count": null,
      "outputs": []
    },
    {
      "cell_type": "code",
      "source": [
        "# Plot the histogram of Volume before handling outliers\n",
        "plt.figure(figsize=(10, 6))\n",
        "sns.histplot(data['Volume'], bins=50, kde=True)\n",
        "plt.title('Distribution of Volume Before Handling Outliers')\n",
        "plt.show()\n",
        "\n",
        "# Plot the histogram of Volume after handling outliers (for example, capping)\n",
        "data_no_outliers = data[~outliers]\n",
        "plt.figure(figsize=(10, 6))\n",
        "sns.histplot(data_no_outliers['Volume'], bins=50, kde=True)\n",
        "plt.title('Distribution of Volume After Handling Outliers')\n",
        "plt.show()\n"
      ],
      "metadata": {
        "id": "hX0OgU9yk0H3"
      },
      "execution_count": null,
      "outputs": []
    },
    {
      "cell_type": "code",
      "source": [
        "before_mean = data['Volume'].mean()\n",
        "before_median = data['Volume'].median()\n",
        "print(f\"Before handling outliers: Mean = {before_mean}, Median = {before_median}\")\n",
        "\n",
        "data_no_outliers = data[~outliers]\n",
        "after_mean = data_no_outliers['Volume'].mean()\n",
        "after_median = data_no_outliers['Volume'].median()\n",
        "print(f\"After handling outliers: Mean = {after_mean}, Median = {after_median}\")\n"
      ],
      "metadata": {
        "id": "es_g48YSk0L-"
      },
      "execution_count": null,
      "outputs": []
    },
    {
      "cell_type": "code",
      "source": [
        "before_skewness = data['Volume'].skew()\n",
        "after_skewness = data_no_outliers['Volume'].skew()\n",
        "print(f\"Before handling outliers: Skewness = {before_skewness}\")\n",
        "print(f\"After handling outliers: Skewness = {after_skewness}\")\n"
      ],
      "metadata": {
        "id": "1-ZBfHz0k0N-"
      },
      "execution_count": null,
      "outputs": []
    },
    {
      "cell_type": "code",
      "source": [
        "before_kurtosis = data['Volume'].kurtosis()\n",
        "after_kurtosis = data_no_outliers['Volume'].kurtosis()\n",
        "print(f\"Before handling outliers: Kurtosis = {before_kurtosis}\")\n",
        "print(f\"After handling outliers: Kurtosis = {after_kurtosis}\")\n",
        "\n"
      ],
      "metadata": {
        "id": "_pL--K2rk0QA"
      },
      "execution_count": null,
      "outputs": []
    },
    {
      "cell_type": "code",
      "source": [
        "# Visualizing after removing outliers\n",
        "plt.figure(figsize=(12, 6))\n",
        "\n",
        "plt.subplot(1, 2, 1)\n",
        "sns.histplot(data_no_outliers['Volume'], kde=True)\n",
        "plt.title('Volume Distribution After Removing Outliers')\n",
        "\n",
        "plt.subplot(1, 2, 2)\n",
        "sns.boxplot(data_no_outliers['Volume'])\n",
        "plt.title('Volume Boxplot After Removing Outliers')\n",
        "\n",
        "plt.show()"
      ],
      "metadata": {
        "id": "NTPlJLlak0Uz"
      },
      "execution_count": null,
      "outputs": []
    },
    {
      "cell_type": "code",
      "source": [
        "from scipy.stats import skew, kurtosis\n",
        "data = yf.download(\"AAPL\", start=\"2010-01-01\", end=\"2024-12-31\")\n",
        "\n",
        "volume = data[['Volume']].squeeze()\n",
        "\n",
        "print(\"Before handling outliers:\")\n",
        "print(\"Mean =\", volume.mean())\n",
        "print(\"Median =\", volume.median())\n",
        "print(\"Skewness =\", skew(volume))\n",
        "print(\"Kurtosis =\", kurtosis(volume))\n",
        "\n",
        "lower_cap = volume.quantile(0.01)\n",
        "upper_cap = volume.quantile(0.99)\n",
        "volume_capped = volume.clip(lower=lower_cap, upper=upper_cap)\n",
        "\n",
        "\n",
        "print(\"\\nAfter handling outliers:\")\n",
        "print(\"Mean =\", volume_capped.mean())\n",
        "print(\"Median =\", volume_capped.median())\n",
        "print(\"Skewness =\", skew(volume_capped))\n",
        "print(\"Kurtosis =\", kurtosis(volume_capped))\n"
      ],
      "metadata": {
        "id": "chg99rPng8uQ"
      },
      "execution_count": null,
      "outputs": []
    },
    {
      "cell_type": "markdown",
      "source": [
        "## Feature Engneering"
      ],
      "metadata": {
        "id": "prsVTMAVg-6s"
      }
    },
    {
      "cell_type": "code",
      "source": [],
      "metadata": {
        "id": "tJV7p6Y8g8xI"
      },
      "execution_count": null,
      "outputs": []
    },
    {
      "cell_type": "code",
      "source": [
        "data = yf.download(\"AAPL\", start=\"1980-12-12\", end=\"2024-12-31\")\n",
        "data = data.iloc[:10000]\n",
        "\n",
        "data['Daily_Return'] = data['Close'].pct_change()\n",
        "data['Volatility'] = data['Daily_Return'].rolling(window=7).std()\n",
        "\n",
        "delta = data['Close'].diff()\n",
        "gain = (delta.where(delta > 0, 0)).rolling(window=14).mean()\n",
        "loss = (-delta.where(delta < 0, 0)).rolling(window=14).mean()\n",
        "\n",
        "rs = gain / loss\n",
        "data['RSI'] = 100 - (100 / (1 + rs))\n",
        "\n",
        "fig, ax = plt.subplots(3, 1, figsize=(10, 12))\n",
        "\n",
        "\n",
        "ax[0].plot(data.index, data['Daily_Return'], label='Daily Return', color='blue')\n",
        "ax[0].set_title('Daily Return')\n",
        "ax[0].set_xlabel('Date')\n",
        "ax[0].set_ylabel('Return')\n",
        "ax[0].legend()\n",
        "\n",
        "\n",
        "ax[1].plot(data.index, data['Volatility'], label='Volatility (7-day rolling)', color='red')\n",
        "ax[1].set_title('Volatility')\n",
        "ax[1].set_xlabel('Date')\n",
        "ax[1].set_ylabel('Volatility')\n",
        "ax[1].legend()\n",
        "\n",
        "ax[2].plot(data.index, data['RSI'], label='RSI (14-day)', color='green')\n",
        "ax[2].axhline(70, color='red', linestyle='--', label='Overbought (70)')\n",
        "ax[2].axhline(30, color='blue', linestyle='--', label='Oversold (30)')\n",
        "ax[2].set_title('Relative Strength Index (RSI)')\n",
        "ax[2].set_xlabel('Date')\n",
        "ax[2].set_ylabel('RSI')\n",
        "ax[2].legend()\n",
        "\n",
        "plt.tight_layout()\n",
        "plt.show()\n"
      ],
      "metadata": {
        "id": "5VhRFsXAhhfP"
      },
      "execution_count": null,
      "outputs": []
    },
    {
      "cell_type": "code",
      "source": [],
      "metadata": {
        "id": "QYDiUCHS-oH4"
      },
      "execution_count": null,
      "outputs": []
    },
    {
      "cell_type": "markdown",
      "source": [],
      "metadata": {
        "id": "BVr3DtCWphE6"
      }
    },
    {
      "cell_type": "code",
      "source": [
        "data = yf.download(\"AAPL\", start=\"1980-12-12\", end=\"2024-12-31\")\n",
        "\n",
        "\n",
        "data.index = pd.to_datetime(data.index)\n",
        "\n",
        "data['Year'] = data.index.year\n",
        "data['Month'] = data.index.month\n",
        "data['Day'] = data.index.day\n",
        "data['DayOfWeek'] = data.index.dayofweek\n",
        "data['Quarter'] = data.index.quarter\n",
        "\n",
        "\n",
        "sns.set(style=\"whitegrid\")\n",
        "\n",
        "\n",
        "plt.figure(figsize=(14, 5))\n",
        "sns.countplot(x='Year', data=data)\n",
        "plt.title('Number of Trading Days per Year')\n",
        "plt.xticks(rotation=90)\n",
        "plt.tight_layout()\n",
        "plt.show()\n",
        "\n",
        "\n",
        "plt.figure(figsize=(10, 4))\n",
        "sns.countplot(x='Month', data=data)\n",
        "plt.title('Number of Trading Days per Month')\n",
        "plt.tight_layout()\n",
        "plt.show()\n",
        "\n",
        "\n",
        "plt.figure(figsize=(12, 4))\n",
        "sns.countplot(x='Day', data=data)\n",
        "plt.title('Number of Trading Days per Calendar Day')\n",
        "plt.tight_layout()\n",
        "plt.show()\n",
        "\n",
        "\n",
        "plt.figure(figsize=(8, 4))\n",
        "sns.countplot(x='DayOfWeek', data=data)\n",
        "plt.title('Number of Trading Days per Day of Week (0=Mon, 6=Sun)')\n",
        "plt.tight_layout()\n",
        "plt.show()\n",
        "\n",
        "\n",
        "plt.figure(figsize=(8, 4))\n",
        "sns.countplot(x='Quarter', data=data)\n",
        "plt.title('Number of Trading Days per Quarter')\n",
        "plt.tight_layout()\n",
        "plt.show()\n"
      ],
      "metadata": {
        "id": "aVludhUZqKxe"
      },
      "execution_count": null,
      "outputs": []
    },
    {
      "cell_type": "code",
      "source": [
        "print(data.columns)\n"
      ],
      "metadata": {
        "id": "g2yB8szRA_XP"
      },
      "execution_count": null,
      "outputs": []
    },
    {
      "cell_type": "code",
      "source": [
        "data[('Close', 'AAPL')] = pd.to_numeric(data[('Close', 'AAPL')], errors='coerce')\n",
        "\n",
        "data[('Pct_Change_', '')] = data[('Close', 'AAPL')].pct_change()\n",
        "data[('Prev_Close_', '')] = data[('Close', 'AAPL')].shift(1)\n",
        "data[('Close_Change_', '')] = data[('Close', 'AAPL')] - data[('Prev_Close_', '')]\n",
        "\n",
        "data.dropna(subset=[('Pct_Change_', ''), ('Prev_Close_', ''), ('Close_Change_', '')], inplace=True)\n",
        "\n",
        "\n",
        "plt.figure(figsize=(14, 6))\n",
        "plt.plot(data.index, data[('Pct_Change_', '')], label='Daily % Change')\n",
        "plt.plot(data.index, data[('Close_Change_', '')].rolling(window=5).mean(), label='5-day Avg Close Change', color='orange')\n",
        "plt.title('AAPL Daily % Change and Close Price Change')\n",
        "plt.xlabel('Date')\n",
        "plt.ylabel('Change')\n",
        "plt.legend()\n",
        "plt.grid(True)\n",
        "plt.tight_layout()\n",
        "plt.show()\n"
      ],
      "metadata": {
        "id": "cmDjYzwaqTfK"
      },
      "execution_count": null,
      "outputs": []
    },
    {
      "cell_type": "code",
      "source": [],
      "metadata": {
        "id": "2F0DaU7oqgXD"
      },
      "execution_count": null,
      "outputs": []
    },
    {
      "cell_type": "markdown",
      "source": [
        "# **Ridge **"
      ],
      "metadata": {
        "id": "EID3bFvbqgtC"
      }
    },
    {
      "cell_type": "code",
      "source": [
        "from sklearn.model_selection import train_test_split, GridSearchCV\n",
        "from sklearn.linear_model import Ridge, LinearRegression\n",
        "from sklearn.preprocessing import MinMaxScaler, PolynomialFeatures\n",
        "from sklearn.metrics import mean_squared_error, r2_score\n",
        "import numpy as np\n",
        "\n",
        "X = data[['50_Day_MA', '200_Day_MA', 'RSI', 'Volatility']]\n",
        "y = data['Close']\n",
        "\n",
        "\n",
        "X_train, X_test, y_train, y_test = train_test_split(X, y, test_size=0.2, random_state=42)\n",
        "\n",
        "scaler = MinMaxScaler()\n",
        "X_train_scaled = scaler.fit_transform(X_train)\n",
        "X_test_scaled = scaler.transform(X_test)\n",
        "\n",
        "ridge = Ridge()\n",
        "param_grid = {'alpha': [0.1, 1, 10, 100, 1000]}\n",
        "grid = GridSearchCV(ridge, param_grid, cv=5, scoring='neg_mean_squared_error')\n",
        "grid.fit(X_train_scaled, y_train)\n",
        "\n",
        "best_ridge = grid.best_estimator_\n",
        "y_pred_ridge = best_ridge.predict(X_test_scaled)\n",
        "\n",
        "mse_ridge = mean_squared_error(y_test, y_pred_ridge)\n",
        "r2_ridge = r2_score(y_test, y_pred_ridge)\n",
        "print(f\" Ridge Regression - Best Alpha: {grid.best_params_['alpha']}\")\n",
        "print(f\"R²: {r2_ridge:.4f}, RMSE: {np.sqrt(mse_ridge):.4f}\")\n",
        "\n",
        "poly = PolynomialFeatures(degree=2)\n",
        "X_train_poly = poly.fit_transform(X_train_scaled)\n",
        "X_test_poly = poly.transform(X_test_scaled)\n",
        "\n",
        "poly_model = LinearRegression()\n",
        "poly_model.fit(X_train_poly, y_train)\n",
        "y_pred_poly = poly_model.predict(X_test_poly)\n",
        "\n",
        "mse_poly = mean_squared_error(y_test, y_pred_poly)\n",
        "r2_poly = r2_score(y_test, y_pred_poly)\n",
        "print(\" Polynomial Linear Regression (Degree=2)\")\n",
        "print(f\"R²: {r2_poly:.4f}, RMSE: {np.sqrt(mse_poly):.4f}\")\n",
        "\n",
        "alphas = [0.1, 1, 10, 100, 1000, 10000]\n",
        "best_alpha = None\n",
        "best_r2 = -np.inf\n",
        "\n",
        "print(\" Manual Alpha Tuning:\")\n",
        "for alpha in alphas:\n",
        "    model = Ridge(alpha=alpha)\n",
        "    model.fit(X_train_scaled, y_train)\n",
        "    r2 = r2_score(y_test, model.predict(X_test_scaled))\n",
        "    print(f\"Alpha {alpha:<6} --> R²: {r2:.4f}\")\n",
        "    if r2 > best_r2:\n",
        "        best_r2 = r2\n",
        "        best_alpha = alpha\n",
        "\n",
        "\n",
        "final_ridge = Ridge(alpha=best_alpha)\n",
        "final_ridge.fit(X_train_scaled, y_train)\n",
        "y_final_pred = final_ridge.predict(X_test_scaled)\n",
        "final_mse = mean_squared_error(y_test, y_final_pred)\n",
        "\n",
        "print(f\" Final Ridge Model (Alpha={best_alpha})\")\n",
        "print(f\"R²: {r2_score(y_test, y_final_pred):.4f}, RMSE: {np.sqrt(final_mse):.4f}\")\n"
      ],
      "metadata": {
        "id": "FRyg95GBnviv",
        "collapsed": true
      },
      "execution_count": null,
      "outputs": []
    },
    {
      "cell_type": "code",
      "source": [
        "from sklearn.metrics import mean_squared_error, r2_score\n",
        "\n",
        "y_train_pred_ridge = best_ridge.predict(X_train_scaled)\n",
        "train_mse_ridge = mean_squared_error(y_train, y_train_pred_ridge)\n",
        "train_r2_ridge = r2_score(y_train, y_train_pred_ridge)\n",
        "\n",
        "\n",
        "y_test_pred_ridge = best_ridge.predict(X_test_scaled)\n",
        "test_mse_ridge = mean_squared_error(y_test, y_test_pred_ridge)\n",
        "test_r2_ridge = r2_score(y_test, y_test_pred_ridge)\n",
        "\n",
        "print(\"Ridge Model - Training Set\")\n",
        "print(f\"R²: {train_r2_ridge:.4f}, RMSE: {np.sqrt(train_mse_ridge):.4f}\")\n",
        "\n",
        "print(\"Ridge Model - Test Set\")\n",
        "print(f\"R²: {test_r2_ridge:.4f}, RMSE: {np.sqrt(test_mse_ridge):.4f}\")\n",
        "\n",
        "\n",
        "\n"
      ],
      "metadata": {
        "id": "QXaD8VfuoRou"
      },
      "execution_count": null,
      "outputs": []
    },
    {
      "cell_type": "code",
      "source": [
        "y_train_pred_poly = poly_model.predict(X_train_poly)\n",
        "train_mse_poly = mean_squared_error(y_train, y_train_pred_poly)\n",
        "train_r2_poly = r2_score(y_train, y_train_pred_poly)\n",
        "\n",
        "y_test_pred_poly = poly_model.predict(X_test_poly)\n",
        "test_mse_poly = mean_squared_error(y_test, y_test_pred_poly)\n",
        "test_r2_poly = r2_score(y_test, y_test_pred_poly)\n",
        "\n",
        "print(\"Polynomial Linear Regression - Training Set\")\n",
        "print(f\"R²: {train_r2_poly:.4f}, RMSE: {np.sqrt(train_mse_poly):.4f}\")\n",
        "\n"
      ],
      "metadata": {
        "id": "nMqaIVXTpBgJ"
      },
      "execution_count": null,
      "outputs": []
    },
    {
      "cell_type": "code",
      "source": [
        "print(\"Polynomial Linear Regression - Test Set\")\n",
        "print(f\"R²: {test_r2_poly:.4f}, RMSE: {np.sqrt(test_mse_poly):.4f}\")"
      ],
      "metadata": {
        "id": "1kf-42hfpFBz"
      },
      "execution_count": null,
      "outputs": []
    },
    {
      "cell_type": "markdown",
      "source": [
        "# **XGBRegressor**"
      ],
      "metadata": {
        "id": "OeRWDbmooSH4"
      }
    },
    {
      "cell_type": "code",
      "source": [
        "import yfinance as yf\n",
        "import numpy as np\n",
        "import matplotlib.pyplot as plt\n",
        "from sklearn.model_selection import train_test_split\n",
        "from sklearn.preprocessing import MinMaxScaler\n",
        "from sklearn.metrics import mean_squared_error, r2_score\n",
        "import xgboost as xgb\n",
        "\n",
        "def load_data():\n",
        "    data = yf.download(\"AAPL\", start=\"1980-12-15\", end=\"2024-12-31\")\n",
        "    data['Daily_Return'] = data['Close'].pct_change()\n",
        "    data['50_Day_MA'] = data['Close'].rolling(window=50).mean()\n",
        "    data['200_Day_MA'] = data['Close'].rolling(window=200).mean()\n",
        "    data['RSI'] = compute_rsi(data['Close'])\n",
        "    data['Volatility'] = data['Daily_Return'].rolling(window=7).std()\n",
        "    return data.dropna()\n",
        "\n",
        "def compute_rsi(series, window=14):\n",
        "    delta = series.diff()\n",
        "    gain = (delta.where(delta > 0, 0)).rolling(window=window).mean()\n",
        "    loss = (-delta.where(delta < 0, 0)).rolling(window=window).mean()\n",
        "    rs = gain / loss\n",
        "    rsi = 100 - (100 / (1 + rs))\n",
        "    return rsi\n",
        "\n",
        "data = load_data()\n",
        "\n",
        "X = data[['50_Day_MA', '200_Day_MA', 'RSI', 'Volatility']]\n",
        "y = data['Close']\n",
        "\n",
        "X_train, X_test, y_train, y_test = train_test_split(X, y, test_size=0.2, random_state=42)\n",
        "\n",
        "scaler = MinMaxScaler()\n",
        "X_train_scaled = scaler.fit_transform(X_train)\n",
        "X_test_scaled = scaler.transform(X_test)\n",
        "\n",
        "xgb_model = xgb.XGBRegressor(\n",
        "    n_estimators=200,\n",
        "    learning_rate=0.1,\n",
        "    max_depth=5,\n",
        "    subsample=0.8,\n",
        "    colsample_bytree=0.8,\n",
        "    random_state=42\n",
        ")\n",
        "\n",
        "xgb_model.fit(X_train_scaled, y_train)\n",
        "\n",
        "y_pred = xgb_model.predict(X_test_scaled)\n",
        "\n",
        "mse = mean_squared_error(y_test, y_pred)\n",
        "r2 = r2_score(y_test, y_pred)\n",
        "print(\"XGBoost - MSE:\", mse)\n",
        "print(\"XGBoost - R²:\", r2)\n",
        "print(\"XGBoost - RMSE:\", np.sqrt(mse))\n"
      ],
      "metadata": {
        "id": "AjMveoSqgd3Q"
      },
      "execution_count": null,
      "outputs": []
    },
    {
      "cell_type": "code",
      "source": [
        "y_train_pred = xgb_model.predict(X_train_scaled)\n",
        "train_r2 = r2_score(y_train, y_train_pred)\n",
        "train_rmse = np.sqrt(mean_squared_error(y_train, y_train_pred))\n",
        "\n",
        "print(\"Train R²:\", train_r2)\n",
        "print(\"Train RMSE:\", train_rmse)\n"
      ],
      "metadata": {
        "id": "NaU8orkJhZzI"
      },
      "execution_count": null,
      "outputs": []
    },
    {
      "cell_type": "markdown",
      "source": [
        "# **Random Forest**"
      ],
      "metadata": {
        "id": "CVIkHDAAnA7N"
      }
    },
    {
      "cell_type": "code",
      "source": [
        "from sklearn.ensemble import RandomForestRegressor\n",
        "from sklearn.metrics import mean_squared_error, r2_score\n",
        "from sklearn.preprocessing import MinMaxScaler\n",
        "from sklearn.model_selection import train_test_split\n",
        "import numpy as np\n",
        "\n",
        "\n",
        "X = data[['50_Day_MA', '200_Day_MA', 'RSI', 'Volatility']]\n",
        "y = data['Close']\n",
        "\n",
        "\n",
        "X_train, X_test, y_train, y_test = train_test_split(X, y, test_size=0.2, shuffle=False)\n",
        "\n",
        "scaler = MinMaxScaler()\n",
        "X_train_scaled = scaler.fit_transform(X_train)\n",
        "X_test_scaled = scaler.transform(X_test)\n",
        "\n",
        "rf_model = RandomForestRegressor(\n",
        "    n_estimators=100,\n",
        "    max_depth=5,\n",
        "    min_samples_split=10,\n",
        "    min_samples_leaf=5,\n",
        "    random_state=42\n",
        ")\n",
        "rf_model.fit(X_train_scaled, y_train)\n",
        "\n",
        "y_pred_rf = rf_model.predict(X_test_scaled)\n",
        "y_train_pred_rf = rf_model.predict(X_train_scaled)\n",
        "\n",
        "\n",
        "test_mse = mean_squared_error(y_test, y_pred_rf)\n",
        "test_rmse = np.sqrt(test_mse)\n",
        "test_r2 = r2_score(y_test, y_pred_rf)\n",
        "\n",
        "train_mse = mean_squared_error(y_train, y_train_pred_rf)\n",
        "train_rmse = np.sqrt(train_mse)\n",
        "train_r2 = r2_score(y_train, y_train_pred_rf)\n",
        "\n",
        "print(\" Random Forest - Test Set\")\n",
        "print(\"R²:\", test_r2)\n",
        "print(\"RMSE:\", test_rmse)\n",
        "\n",
        "print(\" Random Forest - Train Set\")\n",
        "print(\"R²:\", train_r2)\n",
        "print(\"RMSE:\", train_rmse)\n"
      ],
      "metadata": {
        "id": "YdudkasuhomA"
      },
      "execution_count": null,
      "outputs": []
    },
    {
      "cell_type": "code",
      "source": [],
      "metadata": {
        "id": "iVPiiAY-llQq"
      },
      "execution_count": null,
      "outputs": []
    },
    {
      "cell_type": "markdown",
      "source": [
        "# **SVM **\n"
      ],
      "metadata": {
        "id": "FWuo7J4Cllyh"
      }
    },
    {
      "cell_type": "code",
      "source": [
        "import pandas as pd\n",
        "import numpy as np\n",
        "from sklearn.model_selection import train_test_split\n",
        "from sklearn.preprocessing import MinMaxScaler\n",
        "from sklearn.svm import SVR\n",
        "from sklearn.metrics import mean_squared_error, r2_score\n",
        "\n",
        "features = ['50_Day_MA', '200_Day_MA', 'RSI', 'Volatility']\n",
        "target = 'Close'\n",
        "\n",
        "X = data[features]\n",
        "y = data[target]\n",
        "\n",
        "X_train, X_test, y_train, y_test = train_test_split(X, y, test_size=0.2, random_state=42)\n",
        "\n",
        "scaler = MinMaxScaler()\n",
        "X_train_scaled = scaler.fit_transform(X_train)\n",
        "X_test_scaled = scaler.transform(X_test)\n"
      ],
      "metadata": {
        "id": "sgG9uWg3iooL"
      },
      "execution_count": null,
      "outputs": []
    },
    {
      "cell_type": "code",
      "source": [
        "svm_model = SVR(kernel='rbf', C=100, epsilon=0.1)\n",
        "\n",
        "svm_model.fit(X_train_scaled, y_train)\n"
      ],
      "metadata": {
        "id": "Ea30WwcxjVFS"
      },
      "execution_count": null,
      "outputs": []
    },
    {
      "cell_type": "code",
      "source": [
        "svm_model = SVR(kernel='rbf', C=100, epsilon=0.1)\n",
        "\n",
        "\n",
        "svm_model.fit(X_train_scaled, y_train)\n"
      ],
      "metadata": {
        "id": "Q6q6Y6H9jrzd"
      },
      "execution_count": null,
      "outputs": []
    },
    {
      "cell_type": "code",
      "source": [
        "y_pred_test = svm_model.predict(X_test_scaled)\n",
        "y_pred_train = svm_model.predict(X_train_scaled)\n",
        "\n",
        "\n",
        "test_r2 = r2_score(y_test, y_pred_test)\n",
        "test_rmse = mean_squared_error(y_test, y_pred_test) ** 0.5\n",
        "\n",
        "train_r2 = r2_score(y_train, y_pred_train)\n",
        "train_rmse = mean_squared_error(y_train, y_pred_train) ** 0.5\n",
        "\n",
        "# Display results\n",
        "print(\"SVR - Test Set\")\n",
        "print(f\"R²: {test_r2}\")\n",
        "print(f\"RMSE: {test_rmse}\")\n",
        "\n",
        "print(\" SVR - Train Set\")\n",
        "print(f\"R²: {train_r2}\")\n",
        "print(f\"RMSE: {train_rmse}\")\n"
      ],
      "metadata": {
        "id": "Yqu7jGzGju7l"
      },
      "execution_count": null,
      "outputs": []
    },
    {
      "cell_type": "code",
      "source": [
        "import matplotlib.pyplot as plt\n",
        "import numpy as np\n",
        "\n",
        "y_true = np.ravel(y_test)\n",
        "y_pred = np.ravel(y_pred_test)\n",
        "\n",
        "plt.figure(figsize=(7, 7))\n",
        "plt.scatter(y_true, y_pred, alpha=0.6, color='dodgerblue')\n",
        "plt.plot([min(y_true), max(y_true)], [min(y_true), max(y_true)], 'r--')\n",
        "plt.title('SVR: Actual vs Predicted (Scatter Plot)')\n",
        "plt.xlabel('Actual Close Prices')\n",
        "plt.ylabel('Predicted Close Prices')\n",
        "plt.grid(True)\n",
        "plt.tight_layout()\n",
        "plt.show()\n"
      ],
      "metadata": {
        "id": "CWm05ribkTgx"
      },
      "execution_count": null,
      "outputs": []
    },
    {
      "cell_type": "code",
      "source": [
        "residuals = y_true - y_pred\n",
        "\n",
        "plt.figure(figsize=(10, 5))\n",
        "plt.scatter(range(len(residuals)), residuals, alpha=0.6)\n",
        "plt.hlines(0, xmin=0, xmax=len(residuals), colors='red', linestyles='--')\n",
        "\n",
        "plt.ylabel('Residuals')\n",
        "plt.grid(True)\n",
        "plt.tight_layout()\n",
        "plt.show()\n"
      ],
      "metadata": {
        "id": "mBPvsauSlJaw"
      },
      "execution_count": null,
      "outputs": []
    }
  ]
}